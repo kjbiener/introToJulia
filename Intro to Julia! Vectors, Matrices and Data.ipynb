{
 "cells": [
  {
   "cell_type": "markdown",
   "metadata": {},
   "source": [
    "# An Introduction to Basic Julia Functionality "
   ]
  },
  {
   "cell_type": "markdown",
   "metadata": {},
   "source": [
    "# What is a vector?\n",
    "    a vector is a one dimensional array.  It is like one row or column in a spreadsheet, and can hold any kind of data\n",
    "\n",
    "How do we build one?"
   ]
  },
  {
   "cell_type": "code",
   "execution_count": 7,
   "metadata": {},
   "outputs": [
    {
     "data": {
      "text/plain": [
       "1×4 Array{Int64,2}:\n",
       " 1  2  3  4"
      ]
     },
     "execution_count": 7,
     "metadata": {},
     "output_type": "execute_result"
    }
   ],
   "source": [
    "[1 2 3 4]"
   ]
  },
  {
   "cell_type": "code",
   "execution_count": 8,
   "metadata": {},
   "outputs": [
    {
     "data": {
      "text/plain": [
       "4-element Array{Int64,1}:\n",
       " 1\n",
       " 2\n",
       " 3\n",
       " 4"
      ]
     },
     "execution_count": 8,
     "metadata": {},
     "output_type": "execute_result"
    }
   ],
   "source": [
    "[1,2,3,4]"
   ]
  },
  {
   "cell_type": "code",
   "execution_count": 9,
   "metadata": {
    "scrolled": true
   },
   "outputs": [
    {
     "data": {
      "text/plain": [
       "4-element Array{String,1}:\n",
       " \"dog\"\n",
       " \"cat\"\n",
       " \"bird\"\n",
       " \"mouse\""
      ]
     },
     "execution_count": 9,
     "metadata": {},
     "output_type": "execute_result"
    }
   ],
   "source": [
    " [\"dog\", \"cat\", \"bird\", \"mouse\"]"
   ]
  },
  {
   "cell_type": "markdown",
   "metadata": {},
   "source": [
    "To declare a vector in Julia, use the square braces []\n",
    "\n",
    "A ROW vector has items separated by spaces\n",
    "\n",
    "A COLUMN vector has items separated by commas\n",
    "\n",
    "\n",
    "Lets say that you build a vector full of animals"
   ]
  },
  {
   "cell_type": "markdown",
   "metadata": {},
   "source": [
    "animalsVector =  [\"dog\", \"cat\", \"bird\", \"mouse\"]"
   ]
  },
  {
   "cell_type": "markdown",
   "metadata": {},
   "source": [
    "Notice: by giving this vector a title, we have saved it in the computer's memory\n",
    "\n",
    "If I want to take out just the bird, I have to do INDEXING\n",
    "Each entry of the vector has a number label of its position, aka an Index"
   ]
  },
  {
   "cell_type": "code",
   "execution_count": 11,
   "metadata": {},
   "outputs": [
    {
     "data": {
      "text/plain": [
       "\"cat\""
      ]
     },
     "execution_count": 11,
     "metadata": {},
     "output_type": "execute_result"
    }
   ],
   "source": [
    "animalsVector =  [\"dog\", \"cat\", \"bird\", \"mouse\"]\n",
    "#lets find the cat!  \n",
    "#you can index into a vector with the position inside square braces\n",
    "animalsVector[2]"
   ]
  },
  {
   "cell_type": "markdown",
   "metadata": {},
   "source": [
    "A word of Warning! Indexing out of bounds will cause an error!"
   ]
  },
  {
   "cell_type": "code",
   "execution_count": 12,
   "metadata": {},
   "outputs": [
    {
     "ename": "BoundsError",
     "evalue": "BoundsError: attempt to access 1×4 Array{Int64,2} at index [5]",
     "output_type": "error",
     "traceback": [
      "BoundsError: attempt to access 1×4 Array{Int64,2} at index [5]",
      "",
      "Stacktrace:",
      " [1] getindex(::Array{Int64,2}, ::Int64) at .\\array.jl:788",
      " [2] top-level scope at In[12]:2"
     ]
    }
   ],
   "source": [
    "vectorFourLong = [1 2 3 4]\n",
    "vectorFourLong[5]"
   ]
  },
  {
   "cell_type": "markdown",
   "metadata": {},
   "source": [
    "# What is a Matrix?\n",
    "    a matrix is a two dimensional array.  It is like a bunch of row vectors stacked on top of each other\n",
    "\n",
    "Matrices are built just like vectors.\n",
    "Use a semicolon to indicate a new row!"
   ]
  },
  {
   "cell_type": "code",
   "execution_count": 15,
   "metadata": {},
   "outputs": [
    {
     "data": {
      "text/plain": [
       "2×4 Array{String,2}:\n",
       " \"a\"  \"b\"  \"c\"  \"d\"\n",
       " \"e\"  \"f\"  \"g\"  \"h\""
      ]
     },
     "execution_count": 15,
     "metadata": {},
     "output_type": "execute_result"
    }
   ],
   "source": [
    "[\"a\" \"b\" \"c\" \"d\"; \"e\" \"f\" \"g\" \"h\"]"
   ]
  },
  {
   "cell_type": "markdown",
   "metadata": {},
   "source": [
    "Indexing into matrices works just like vectors, but you now need two coordinates.\n",
    "Index with the format [row, column] "
   ]
  },
  {
   "cell_type": "code",
   "execution_count": 16,
   "metadata": {},
   "outputs": [
    {
     "data": {
      "text/plain": [
       "\"g\""
      ]
     },
     "execution_count": 16,
     "metadata": {},
     "output_type": "execute_result"
    }
   ],
   "source": [
    "myMatrix = [\"a\" \"b\" \"c\" \"d\"; \"e\" \"f\" \"g\" \"h\"]\n",
    "myMatrix[2,3]"
   ]
  },
  {
   "cell_type": "markdown",
   "metadata": {},
   "source": [
    "You can also slice a matrix into rows or columns by using the : operator during indexing"
   ]
  },
  {
   "cell_type": "code",
   "execution_count": 17,
   "metadata": {},
   "outputs": [
    {
     "data": {
      "text/plain": [
       "4-element Array{String,1}:\n",
       " \"e\"\n",
       " \"f\"\n",
       " \"g\"\n",
       " \"h\""
      ]
     },
     "execution_count": 17,
     "metadata": {},
     "output_type": "execute_result"
    }
   ],
   "source": [
    "myMatrix = [\"a\" \"b\" \"c\" \"d\"; \"e\" \"f\" \"g\" \"h\"]\n",
    "myMatrix[2,:]\n",
    "#this operation will extract all of row 2"
   ]
  },
  {
   "cell_type": "markdown",
   "metadata": {},
   "source": [
    "# Other ways to build an array/matrix\n",
    "\n",
    "Range Notation:\n",
    "Use a colon to create a vector or matrix with a range of values"
   ]
  },
  {
   "cell_type": "code",
   "execution_count": 11,
   "metadata": {},
   "outputs": [
    {
     "data": {
      "text/plain": [
       "20-element Array{Int64,1}:\n",
       "  1\n",
       "  2\n",
       "  3\n",
       "  4\n",
       "  5\n",
       "  6\n",
       "  7\n",
       "  8\n",
       "  9\n",
       " 10\n",
       " 21\n",
       " 22\n",
       " 23\n",
       " 24\n",
       " 25\n",
       " 26\n",
       " 27\n",
       " 28\n",
       " 29\n",
       " 30"
      ]
     },
     "execution_count": 11,
     "metadata": {},
     "output_type": "execute_result"
    }
   ],
   "source": [
    "[1:10; 21:30]"
   ]
  },
  {
   "cell_type": "markdown",
   "metadata": {},
   "source": [
    "Build now, fill later with\n",
    "Array{T}(undef, dims)\n",
    "Where T is the type\n",
    "and dims is the dimensions\n",
    "Note: for concrete types, julia will automatically fill in the matrix with junk values"
   ]
  },
  {
   "cell_type": "code",
   "execution_count": 18,
   "metadata": {},
   "outputs": [
    {
     "data": {
      "text/plain": [
       "2×3 Array{Int64,2}:\n",
       " 368363696  368363728  158578320\n",
       " 156449200  157065840  163143984"
      ]
     },
     "execution_count": 18,
     "metadata": {},
     "output_type": "execute_result"
    }
   ],
   "source": [
    "Array{Int64}(undef, 2, 3)"
   ]
  },
  {
   "cell_type": "code",
   "execution_count": 6,
   "metadata": {
    "scrolled": true
   },
   "outputs": [
    {
     "data": {
      "text/plain": [
       "2×3 Array{Int64,2}:\n",
       " 344327936         18  344327952\n",
       "         6  140148768         45"
      ]
     },
     "execution_count": 6,
     "metadata": {},
     "output_type": "execute_result"
    }
   ],
   "source": [
    "#You can put the correct values in by indexing\n",
    "junkArray = Array{Int64}(undef, 2, 3)\n",
    "junkArray[1, 2] = 18;\n",
    "junkArray[2, 3] = 45;\n",
    "junkArray[2, 1] = 6;\n",
    "junkArray"
   ]
  },
  {
   "cell_type": "markdown",
   "metadata": {},
   "source": [
    "There are some built-ins for quick matrix building:\n",
    "\n",
    "**zeros(T, dims)\n",
    "ones(T, dims)**\n",
    "\n",
    "Both of these functions build a matrix full of either ones or zeros, with specified dimensions"
   ]
  },
  {
   "cell_type": "markdown",
   "metadata": {},
   "source": [
    "# When is this useful?\n"
   ]
  }
 ],
 "metadata": {
  "kernelspec": {
   "display_name": "Julia 1.4.2",
   "language": "julia",
   "name": "julia-1.4"
  },
  "language_info": {
   "file_extension": ".jl",
   "mimetype": "application/julia",
   "name": "julia",
   "version": "1.4.2"
  }
 },
 "nbformat": 4,
 "nbformat_minor": 4
}
